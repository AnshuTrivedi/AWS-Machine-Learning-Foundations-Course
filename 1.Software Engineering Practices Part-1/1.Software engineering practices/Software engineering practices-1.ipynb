{
 "cells": [
  {
   "cell_type": "markdown",
   "metadata": {},
   "source": [
    "# 1. Introduction"
   ]
  },
  {
   "cell_type": "markdown",
   "metadata": {},
   "source": [
    "* **Write clean and modular code**\n",
    "* **Improve code efficiency**\n",
    "* **Add efective documentation**\n",
    "* **Use Version Control**"
   ]
  },
  {
   "cell_type": "markdown",
   "metadata": {},
   "source": [
    "# 2. Clean and Modular Code"
   ]
  },
  {
   "cell_type": "markdown",
   "metadata": {},
   "source": [
    "**PRODUCTION CODE:** software running on production servers to handle live users and data of the intended audience. Note this is different from production quality code, which describes code that meets expectations in reliability, efficiency, etc., for production. Ideally, all code in production meets these expectations, but this is not always the case.\n",
    "\n",
    "**CLEAN:** `readable, simple, and concise`. A characteristic of production quality code that is crucial for collaboration and maintainability in software development.\n",
    "\n",
    "**MODULAR:** `logically broken up into functions and modules`. Also an important characteristic of production quality code that makes your code `more organized, efficient, and reusable`.\n",
    "\n",
    "**MODULE:** a file. Modules allow code to be reused by encapsulating them into files that can be imported into other files."
   ]
  },
  {
   "cell_type": "markdown",
   "metadata": {},
   "source": [
    "Quiz-1: Which of the following describes code that is clean?\n",
    " * Repetitive\n",
    " * Simple\n",
    " * Readable\n",
    " * Vague\n",
    " * Concise\n",
    " \n",
    "Answer: Simple,Readable,concise"
   ]
  },
  {
   "cell_type": "markdown",
   "metadata": {},
   "source": [
    "Quiz-2: Making your code MODULAR makes it easier to\n",
    "   * Reuse your code\n",
    "   * Write less code\n",
    "   * Read your code\n",
    "   * Collaborate on code\n",
    "   \n",
    "Answer: All of given options"
   ]
  },
  {
   "cell_type": "markdown",
   "metadata": {},
   "source": [
    "# 3. Refactoring Code"
   ]
  },
  {
   "cell_type": "markdown",
   "metadata": {},
   "source": [
    "**REFACTORING:** restructuring your code `to improve its internal structure, without changing its external functionality`. This gives you a chance to clean and modularize your program after you've got it working.\n",
    "\n",
    "* Since it isn't easy to write your best code while you're still trying to just get it working, allocating time to do this is essential to producing high quality code. Despite the initial time and effort required, this really pays off by speeding up your development time in the long run.\n",
    "\n",
    "\n",
    "* You become a much stronger programmer when you're constantly looking to improve your code. The more you refactor, the easier it will be to structure and write good code the first time."
   ]
  },
  {
   "cell_type": "markdown",
   "metadata": {},
   "source": [
    "### Why refactor?\n",
    "* Reduce workload in long run\n",
    "* Easier to maintain code\n",
    "* Reuse more of your code\n",
    "* Become a better developer"
   ]
  },
  {
   "cell_type": "markdown",
   "metadata": {},
   "source": [
    "# 4. Writing Clean Code\n"
   ]
  },
  {
   "cell_type": "markdown",
   "metadata": {},
   "source": [
    "### Writing Clean Code: Meaningful Names\n",
    "Tip: Use meaningful names\n",
    "\n",
    "* **Be descriptive and imply type** - E.g. for booleans, you can prefix with is_ or has_ to make it clear it is a condition. You can also use part of speech to imply types, like verbs for functions and nouns for variables.\n",
    "\n",
    "\n",
    "* **Be consistent but clearly differentiate** - E.g. age_list and age is easier to differentiate than ages and age.\n",
    "\n",
    "\n",
    "* **Avoid abbreviations and especially single letters** - (Exception: counters and common math variables) Choosing when these exceptions can be made can be determined based on the audience for your code. If you work with other data scientists, certain variables may be common knowledge. While if you work with full stack engineers, it might be necessary to provide more descriptive names in these cases as well.\n",
    "\n",
    "\n",
    "* **Long names != descriptive names** - You should be descriptive, but only with relevant information. E.g. good functions names describe what they do well without including details about implementation or highly specific uses."
   ]
  },
  {
   "cell_type": "markdown",
   "metadata": {},
   "source": [
    "### Writing Clean Code: Nice Whitespace\n",
    "Tip: Use whitespace properly\n",
    "\n",
    "* **Organize your code with consistent indentation** - the standard is to use 4 spaces for each indent. You can make this a default in your text editor.\n",
    "\n",
    "\n",
    "* **Separate sections with blank lines** to keep your code well organized and readable.\n",
    "\n",
    "\n",
    "* **Try to limit your lines to around 79 characters**, which is the guideline given in the PEP 8 style guide. In many good text editors, there is a setting to display a subtle line that indicates where the 79 character limit is."
   ]
  },
  {
   "cell_type": "markdown",
   "metadata": {},
   "source": [
    "# 5.Quiz: Clean Code\n"
   ]
  },
  {
   "cell_type": "markdown",
   "metadata": {},
   "source": [
    "QUESTION 1 OF 2\n",
    "\n",
    "Imagine you are writing a program that executes a number of tasks and categorizes each task based on its execution time. Below is a small snippet of this program. Which of the following naming changes could make this code cleaner?"
   ]
  },
  {
   "cell_type": "markdown",
   "metadata": {},
   "source": [
    "### Before cleaning code\n",
    "<block><pre>\n",
    "t = end_time - start  # compute execution time \n",
    "c = category(t)  # get category of task\n",
    "print('Task Duration: {} seconds, Category: {}'.format(t, c))\n",
    "<block></pre>"
   ]
  },
  {
   "cell_type": "markdown",
   "metadata": {},
   "source": [
    "* None\n",
    "* rename the variable `start` to `start_time` to make it consistent with `end_time`\n",
    "* rename the varibale `t` to `execution_time` to make it more descriptive\n",
    "* rename the function `category` to `categorize_task` to match part of speech\n",
    "* rename the variable `c` to `category` to make it more descriptive\n",
    "\n",
    "Answer: All options except `None`"
   ]
  },
  {
   "cell_type": "markdown",
   "metadata": {},
   "source": [
    "### After cleaning above code\n",
    "<block><pre>\n",
    "execution_time = end_time - start_time\n",
    "category = categorize_task(execution_time)\n",
    "print('Task Duration: {} seconds, Category: {}'.format(execution_time, category)\n",
    "<block></pre>"
   ]
  },
  {
   "cell_type": "markdown",
   "metadata": {},
   "source": [
    "Quiz: Buying Stocks\n",
    "\n",
    "Imagine you analyzed several stocks and calculated the ideal price, or limit price, you'd want to buy each stock at. You write a program to iterate through your stocks and buy it if the current price is below or equal to the limit price you computed. Otherwise, you put it on a watchlist. Below are three ways of writing this code. Which of the following is the most clean?"
   ]
  },
  {
   "cell_type": "markdown",
   "metadata": {},
   "source": [
    "### Choice A\n",
    "<block><pre>\n",
    "stock_limit_prices = {'LUX': 62.48, 'AAPL': 127.67, 'NVDA': 161.24}\n",
    "for stock_ticker, stock_limit_price in buy_prices.items():\n",
    "    if stock_limit_price <= get_current_stock_price(ticker):\n",
    "        buy_stock(ticker)\n",
    "    else:\n",
    "        watchlist_stock(ticker)\n",
    "<block></pre>"
   ]
  },
  {
   "cell_type": "markdown",
   "metadata": {},
   "source": [
    "### Choice B\n",
    "<block><pre>\n",
    "prices = {'LUX': 62.48, 'AAPL': 127.67, 'NVDA': 161.24}\n",
    "for ticker, price in prices.items():\n",
    "    if price <= current_price(ticker):\n",
    "        buy(ticker)\n",
    "    else:\n",
    "        watchlist(ticker)\n",
    "<block></pre>"
   ]
  },
  {
   "cell_type": "markdown",
   "metadata": {},
   "source": [
    "### Choice C\n",
    "<block><pre>\n",
    "limit_prices = {'LUX': 62.48, 'AAPL': 127.67, 'NVDA': 161.24}\n",
    "for ticker, limit in limit_prices.items():\n",
    "    if limit <= get_current_price(ticker):\n",
    "        buy(ticker)\n",
    "    else:\n",
    "        watchlist(ticker)\n",
    "<block></pre>"
   ]
  },
  {
   "cell_type": "markdown",
   "metadata": {},
   "source": [
    "Answer: Choice C"
   ]
  },
  {
   "cell_type": "markdown",
   "metadata": {},
   "source": [
    " Choice A unnecessarily included the word stock everywhere, when we can already assume we are dealing with stocks based on the context. Naming everything with this can be redundant unless there is a clear reason to differentiate it with something similar. Choice B was also passable but could have more clearly differentiated the limit prices from the current price."
   ]
  },
  {
   "cell_type": "markdown",
   "metadata": {},
   "source": [
    "# 6. Writing Modular Code\n"
   ]
  },
  {
   "cell_type": "markdown",
   "metadata": {},
   "source": [
    "* **Tip: DRY (Don't Repeat Yourself)**\n",
    "Don't repeat yourself! Modularization allows you to reuse parts of your code. Generalize and consolidate repeated code in functions or loops.\n",
    "\n",
    "\n",
    "\n",
    "* **Tip: Abstract out logic to improve readability**\n",
    "Abstracting out code into a function not only makes it less repetitive, but also improves readability with descriptive function names. Although your code can become more readable when you abstract out logic into functions, it is possible to over-engineer this and have way too many modules, so use your judgement.\n",
    "\n",
    "\n",
    "* **Tip: Minimize the number of entities (functions, classes, modules, etc.)**\n",
    "There are tradeoffs to having function calls instead of inline logic. If you have broken up your code into an unnecessary amount of functions and modules, you'll have to jump around everywhere if you want to view the implementation details for something that may be too small to be worth it. Creating more modules doesn't necessarily result in effective modularization.\n",
    "\n",
    "\n",
    "* **Tip: Functions should do one thing**\n",
    "Each function you write should be focused on doing one thing. If a function is doing multiple things, it becomes more difficult to generalize and reuse. Generally, if there's an \"and\" in your function name, consider refactoring.\n",
    "\n",
    "\n",
    "\n",
    "* **Tip: Arbitrary variable names can be more effective in certain functions**\n",
    "Arbitrary variable names in general functions can actually make the code more readable.\n",
    "\n",
    "\n",
    "* **Tip: Try to use fewer than three arguments per function**\n",
    "Try to use no more than three arguments when possible. This is not a hard rule and there are times it is more appropriate to use many parameters. But in many cases, it's more effective to use fewer arguments. Remember we are modularizing to simplify our code and make it more efficient to work with. If your function has a lot of parameters, you may want to rethink how you are splitting this up."
   ]
  },
  {
   "cell_type": "markdown",
   "metadata": {},
   "source": [
    "## Bad code "
   ]
  },
  {
   "cell_type": "code",
   "execution_count": 1,
   "metadata": {},
   "outputs": [
    {
     "name": "stdout",
     "output_type": "stream",
     "text": [
      "87.4\n",
      "92.4\n",
      "97.4\n",
      "93.44776840374746\n"
     ]
    }
   ],
   "source": [
    "# %load bad.py\n",
    "#!/usr/bin/env python\n",
    "\n",
    "# ### s is test scores list and i as educator trying to improve score of each students for better results\n",
    "\n",
    "\n",
    "\n",
    "s=[88,92,79,93,85]\n",
    "print(sum(s)/len(s))\n",
    "\n",
    "\n",
    "s1=[]\n",
    "\n",
    "for x in s:\n",
    "    s1.append(x+5)\n",
    "\n",
    "print(sum(s1)/len(s1))\n",
    "\n",
    "\n",
    "s2=[]\n",
    "\n",
    "for x in s:\n",
    "    s2.append(x+10)\n",
    "    \n",
    "print(sum(s2)/len(s2))\n",
    "\n",
    "\n",
    "s3=[]\n",
    "\n",
    "for x in s:\n",
    "    s3.append(x**0.5*10)\n",
    "    \n",
    "print(sum(s3)/len(s3))\n",
    "\n",
    "\n",
    "# # This code looks repetitive and not clear what it is about,this is example of spaghetti code.\n"
   ]
  },
  {
   "cell_type": "markdown",
   "metadata": {},
   "source": [
    "## Little better code"
   ]
  },
  {
   "cell_type": "code",
   "execution_count": 2,
   "metadata": {},
   "outputs": [
    {
     "name": "stdout",
     "output_type": "stream",
     "text": [
      "87.4\n",
      "92.4\n",
      "97.4\n",
      "93.44776840374746\n"
     ]
    }
   ],
   "source": [
    "# %load little_better.py\n",
    "#!/usr/bin/env python\n",
    "\n",
    "import numpy as np \n",
    "import math\n",
    "\n",
    "\n",
    "\n",
    "test_scores=[88,92,79,93,85]\n",
    "\n",
    "print(np.mean(test_scores))\n",
    "\n",
    "\n",
    "\n",
    "curved_5=[score + 5 for score in test_scores]\n",
    "\n",
    "print(np.mean(curved_5))\n",
    "\n",
    "\n",
    "\n",
    "curved_10=[score + 10 for score in test_scores]\n",
    "\n",
    "print(np.mean(curved_10))\n",
    "\n",
    "\n",
    "\n",
    "curved_sqrt=[score**0.5*10 for score in test_scores]\n",
    "\n",
    "print(np.mean(curved_sqrt))\n",
    "\n",
    "\n",
    "# # Used list comprehensions to make it more concise and readable,more descriptive names for resulting lists and variables,used numpy for mean calculation\n",
    "\n",
    "# # Still curved_5 and curved_10 have same code logic ,we can generalise it into function. Code can be refactored.\n"
   ]
  },
  {
   "cell_type": "markdown",
   "metadata": {},
   "source": [
    "## Better code"
   ]
  },
  {
   "cell_type": "code",
   "execution_count": 3,
   "metadata": {},
   "outputs": [
    {
     "name": "stdout",
     "output_type": "stream",
     "text": [
      "87.4\n",
      "92.4\n",
      "97.4\n",
      "93.44776840374746\n"
     ]
    }
   ],
   "source": [
    "# %load better.py\n",
    "#!/usr/bin/env python\n",
    "\n",
    "\n",
    "import math\n",
    "import numpy as np\n",
    "\n",
    "\n",
    "\n",
    "\n",
    "def flat_curve(arr,n):\n",
    "    return [i+n for i in arr]\n",
    "\n",
    "\n",
    "\n",
    "def square_curve(arr,n):\n",
    "    return [math.sqrt(i)*n for i in arr]\n",
    "\n",
    "\n",
    "\n",
    "test_scores=[88,92,79,93,85]\n",
    "\n",
    "curved_5=flat_curve(test_scores,5)\n",
    "\n",
    "curved_10=flat_curve(test_scores,10)\n",
    "\n",
    "curved_sqrt=square_curve(test_scores,10)\n",
    "\n",
    "\n",
    "\n",
    "for score_list in test_scores,curved_5,curved_10,curved_sqrt:\n",
    "    print(np.mean(score_list))\n",
    "\n"
   ]
  }
 ],
 "metadata": {
  "kernelspec": {
   "display_name": "Python 3",
   "language": "python",
   "name": "python3"
  },
  "language_info": {
   "codemirror_mode": {
    "name": "ipython",
    "version": 3
   },
   "file_extension": ".py",
   "mimetype": "text/x-python",
   "name": "python",
   "nbconvert_exporter": "python",
   "pygments_lexer": "ipython3",
   "version": "3.7.3"
  }
 },
 "nbformat": 4,
 "nbformat_minor": 2
}
