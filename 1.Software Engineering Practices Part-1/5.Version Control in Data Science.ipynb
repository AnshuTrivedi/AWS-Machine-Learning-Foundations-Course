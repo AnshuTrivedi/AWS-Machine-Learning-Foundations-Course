{
 "cells": [
  {
   "cell_type": "markdown",
   "metadata": {},
   "source": [
    "# Scenario #1\n",
    "## git branches\n",
    "Imagine you are a part of Data Scientist tha's is responsible for making company's recommendation system engine.You are sitting on desk ,working on feature that incorporates demographic data such as age,gender,relationship status to improve recomendations to users.You'are midway through this implementation when your boss comes over to notify you that business intelligence team predicts that user's friend group will produce best recommendations in short term and wanted to prioritize this immidiately.\n",
    "\n",
    "Looking at the recommendation engine code you have on your screen ,you can see bunch of unfinished non working code that you have added while working on the demographic feature.\n",
    "Running this code right now would break.If you want to get started on this new friend groups feature now:you'd have to undo all of ths work may be editing back lines you have modified or commenting out lines of code you have added.This would be messy and risky route or say you're using version control system like git.\n",
    "\n",
    "You can simply commit your changes and create new branch for this feature.\n",
    "Your company has git repository for it's recommendation engine and has master branch,which holds code used in production and develop branch which holds latest stable version of code with changes for next release.You have local version of this repository  on your laptop."
   ]
  },
  {
   "cell_type": "markdown",
   "metadata": {},
   "source": [
    "**STEP 1:** You have a local version of this repository on your laptop, and to get the latest stable version, you pull from the develop branch.\n",
    "\n",
    "Switch to the develop branch\n",
    "\n",
    "`git checkout develop`\n",
    "\n",
    "Pull latest changes in the develop branch\n",
    "\n",
    "`git pull`\n"
   ]
  },
  {
   "cell_type": "markdown",
   "metadata": {},
   "source": [
    "**STEP 2:** When you start working on this demographic feature, you create a new branch for this called demographic, and start working on your code in this branch.\n",
    "Create and switch to new branch called demographic from develop branch\n",
    "\n",
    "`git checkout -b demographic`\n",
    "\n",
    "Work on this new feature and commit as you go\n",
    "\n",
    "`git commit -m 'added gender recommendations'`\n",
    "\n",
    "`git commit -m 'added location specific recommendations'`\n",
    "...\n"
   ]
  },
  {
   "cell_type": "markdown",
   "metadata": {},
   "source": [
    "**STEP 3:** However, in the middle of your work, you need to work on another feature. So you commit your changes on this demographic branch, and switch back to the develop branch.\n",
    "Commit changes before switching\n",
    "\n",
    "`git commit -m 'refactored demographic gender and location recommendations '`\n",
    "\n",
    "Switch to the develop branch\n",
    "\n",
    "`git checkout develop`\n"
   ]
  },
  {
   "cell_type": "markdown",
   "metadata": {},
   "source": [
    "**STEP 4:** From this stable develop branch, you create another branch for a new feature called friend_groups.\n",
    "Create and switch to new branch called friend_groups from develop branch\n",
    "\n",
    "`git checkout -b friend_groups`\n"
   ]
  },
  {
   "cell_type": "markdown",
   "metadata": {},
   "source": [
    "**STEP 5:** After you finish your work on the friend_groups branch, you commit your changes, switch back to the development branch, merge it back to the develop branch, and push this to the remote repository’s develop branch.\n",
    "Commit changes before switching\n",
    "\n",
    "`git commit -m 'finalized friend_groups recommendations`\n",
    "\n",
    "Switch to the develop branch\n",
    "\n",
    "`git checkout develop`\n",
    "\n",
    "Merge friend_groups branch to develop\n",
    "\n",
    "`git merge --no-ff friends_groups`\n",
    "\n",
    "Push to remote repository\n",
    "\n",
    "`git push origin develop`\n"
   ]
  },
  {
   "cell_type": "markdown",
   "metadata": {},
   "source": [
    "**STEP 6:** Now, you can switch back to the demographic branch to continue your progress on that feature.\n",
    "Switch to the demographic branch\n",
    "\n",
    "`git checkout demographic`"
   ]
  },
  {
   "cell_type": "markdown",
   "metadata": {},
   "source": [
    "# Scenario #2\n",
    "## git commit messages"
   ]
  },
  {
   "cell_type": "markdown",
   "metadata": {},
   "source": [
    "After working on this recommendation feature for a while you have created a model to produce recommendations based on friend groups. The model scored pretty well on validation set but you remember it did even better just a few hours ago.You've been experimenting with tweaks to this model and you're not sure which combinaton of parameters and tweaks were in place when your model scored the highest.\n",
    "\n",
    "Luckily,you've been including a message with each commit noting what you did as well as training and cross validation scores for each commit .\n",
    "\n",
    "Instead of spending bunch of time trying to retrace your steps from memory or testing bunch of tweaks again to try and get the same score.You can check your commit history seeing messages of the changes you need and how well it performed.\n",
    "Seeing history what modifications made model perform well and use those for model."
   ]
  },
  {
   "cell_type": "markdown",
   "metadata": {},
   "source": [
    "**Step 1:** You check your commit history, seeing messages of the changes you made and how well it performed.\n",
    "View log history\n",
    "\n",
    "`git log`"
   ]
  },
  {
   "cell_type": "markdown",
   "metadata": {},
   "source": [
    "**Step 2:** The model at this commit seemed to score the highest, so you decide to take a look.\n",
    "Checkout a commit\n",
    "\n",
    "`git checkout bc90f2cbc9dc4e802b46e7a153aa106dc9a88560`\n",
    "\n",
    "After inspecting your code, you realize what modifications made this perform well, and use those for your model.\n"
   ]
  },
  {
   "cell_type": "markdown",
   "metadata": {},
   "source": [
    "**Step 3:** Now, you’re pretty confident merging this back into the development branch, and pushing the updated recommendation engine.\n",
    "\n",
    "Switch to develop branch\n",
    "\n",
    "`git checkout develop`\n",
    "\n",
    "Merge friend_groups branch to develop\n",
    "\n",
    "`git merge --no-ff friend_groups`\n",
    "\n",
    "Push changes to remote repository\n",
    "\n",
    "`git push origin develop`"
   ]
  },
  {
   "cell_type": "markdown",
   "metadata": {},
   "source": [
    "# Scenario #3\n",
    "**merging branches on team**"
   ]
  },
  {
   "cell_type": "markdown",
   "metadata": {},
   "source": [
    "While you were working on these changes,your co-worker, Andrew have been working on improvements to the documentation of same recommendation engine on different branch called Documentation.\n",
    "\n",
    "Andrew commit his changes to the documentation branch ,swithces to development branch and pulls down latest changes from remote repo on this branch which includes the change i previously merged for friend group feature.\n",
    "\n",
    "Then Andrew merges document branch to Develop branch on local repository then pushes his changes up to update the Develop branch on the remote repository.\n",
    "\n",
    "After team reviewed both of your work then merged the update from Develop branch to master branch.Now they pushed the changes to the master branch on remote repository.These changes are now in production. "
   ]
  },
  {
   "cell_type": "markdown",
   "metadata": {},
   "source": [
    "**Step 1:** Andrew commits his changes to the documentation branch, switches to the development branch, and pulls down the latest changes from the cloud on this development branch, including the change I merged previously for the friends group feature.\n",
    "\n",
    "Commit changes on documentation branch\n",
    "`git commit -m \"standardized all docstrings in process.py\"`\n",
    "\n",
    "Switch to develop branch\n",
    "`git checkout develop`\n",
    "\n",
    "Pull latest changes on develop down\n",
    "`git pull`\n"
   ]
  },
  {
   "cell_type": "markdown",
   "metadata": {},
   "source": [
    "**Step 2:** Then, Andrew merges his documentation branch on the develop branch on his local repository, and then pushes his changes up to update the develop branch on the remote repository.\n",
    "\n",
    "Merge documentation branch to develop\n",
    "\n",
    "`git merge --no-ff documentation`\n",
    "\n",
    "Push changes up to remote repository\n",
    "\n",
    "`git push origin develop`\n"
   ]
  },
  {
   "cell_type": "markdown",
   "metadata": {},
   "source": [
    "**Step 3:** After the team reviewed both of your work, they merge the updates from the development branch to the master branch. Now they push the changes to the master branch on the remote repository. These changes are now in production.\n",
    "\n",
    "Merge develop to master\n",
    "\n",
    "`git merge --no-ff develop`\n",
    "\n",
    "Push changes up to remote repository\n",
    "\n",
    "`git push origin master`"
   ]
  },
  {
   "cell_type": "markdown",
   "metadata": {},
   "source": [
    "# Model Versioning"
   ]
  },
  {
   "cell_type": "markdown",
   "metadata": {},
   "source": [
    "In the previous example, you may have noticed that each commit was documented with a score for that model. This is one simple way to help you keep track of model versions. `Version control in data science can be tricky, because there are many pieces involved that can be hard to track, such as large amounts of data, model versions, seeds, hyperparameters, etc`.\n",
    "\n",
    "Here are some resources for useful ways and tools for managing versions of models and large data. These are here for you to explore, but are not necessary to know now as you start your journey as a data scientist. On the job, you’ll always be learning new skills, and many of them will be specific to the processes set in your company.\n",
    "\n",
    "[How to Version Control Your Production Machine Learning Models](https://algorithmia.com/blog/how-to-version-control-your-production-machine-learning-models)\n"
   ]
  }
 ],
 "metadata": {
  "kernelspec": {
   "display_name": "Python 3",
   "language": "python",
   "name": "python3"
  },
  "language_info": {
   "codemirror_mode": {
    "name": "ipython",
    "version": 3
   },
   "file_extension": ".py",
   "mimetype": "text/x-python",
   "name": "python",
   "nbconvert_exporter": "python",
   "pygments_lexer": "ipython3",
   "version": "3.7.3"
  }
 },
 "nbformat": 4,
 "nbformat_minor": 2
}
