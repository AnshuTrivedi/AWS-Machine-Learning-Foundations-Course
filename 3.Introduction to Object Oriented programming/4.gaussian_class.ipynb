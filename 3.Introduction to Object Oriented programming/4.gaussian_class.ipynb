{
 "cells": [
  {
   "cell_type": "markdown",
   "metadata": {},
   "source": [
    "# Python package\n",
    "**(Gaussian distributions)**"
   ]
  },
  {
   "cell_type": "markdown",
   "metadata": {},
   "source": [
    "* read in dataset \n",
    "* calucalte mean \n",
    "* calculate standard deciation\n",
    "* plot histogram\n",
    "* plot probability density fucntion\n",
    "* Add two gussian distributions"
   ]
  },
  {
   "cell_type": "markdown",
   "metadata": {},
   "source": [
    "## Gaussian Distribution Formulas\n",
    "#### probability density function\n",
    "## $f(x ∣ μ,σ^2)= \\frac{1}{\\sqrt{2πσ^2}}e^{-(x−μ)^2})$"
   ]
  },
  {
   "cell_type": "markdown",
   "metadata": {},
   "source": [
    "where:\n",
    "* μ is the mean\n",
    "* σ is the standard deviation\n",
    "* σ is the variance  "
   ]
  },
  {
   "cell_type": "markdown",
   "metadata": {},
   "source": [
    "## Binomial Distribution Formulas"
   ]
  },
  {
   "cell_type": "markdown",
   "metadata": {},
   "source": [
    "#### mean\n",
    "$\\mu =n∗p$"
   ]
  },
  {
   "cell_type": "markdown",
   "metadata": {},
   "source": [
    "#### variance\n",
    "$ \\sigma^2 =n∗p∗(1−p) $"
   ]
  },
  {
   "cell_type": "markdown",
   "metadata": {},
   "source": [
    "#### standard deviation\n",
    "$\\sigma = \\sqrt{n * p * (1 - p)}$"
   ]
  },
  {
   "cell_type": "markdown",
   "metadata": {},
   "source": [
    "#### probability density function\n",
    "## $f(k,n,p)=\\frac{n!}{k!(n−k)!}!p^k(1−p)^{(n−k)}$"
   ]
  },
  {
   "cell_type": "code",
   "execution_count": null,
   "metadata": {},
   "outputs": [],
   "source": []
  }
 ],
 "metadata": {
  "kernelspec": {
   "display_name": "Python 3",
   "language": "python",
   "name": "python3"
  },
  "language_info": {
   "codemirror_mode": {
    "name": "ipython",
    "version": 3
   },
   "file_extension": ".py",
   "mimetype": "text/x-python",
   "name": "python",
   "nbconvert_exporter": "python",
   "pygments_lexer": "ipython3",
   "version": "3.7.7"
  }
 },
 "nbformat": 4,
 "nbformat_minor": 4
}
