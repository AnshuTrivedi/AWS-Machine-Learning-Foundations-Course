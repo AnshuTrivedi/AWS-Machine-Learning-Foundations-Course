{
 "cells": [
  {
   "cell_type": "markdown",
   "metadata": {},
   "source": [
    "# Introduction\n"
   ]
  },
  {
   "cell_type": "markdown",
   "metadata": {},
   "source": [
    "### Lesson Outline\n",
    "* Object-oriented programming syntax\n",
    "\n",
    "* procedural vs object-oriented programming\n",
    "* classes, objects, methods and attributes\n",
    "* coding a class\n",
    "* magic methods\n",
    "* inheritance\n",
    "### Using object-oriented programming to make a Python package\n",
    "\n",
    "* making a package\n",
    "* tour of scikit-learn source code\n",
    "* putting your package on PyPi"
   ]
  },
  {
   "cell_type": "markdown",
   "metadata": {},
   "source": [
    "## Why Object-Oriented Programming?\n",
    "Object-oriented programming has a few benefits over procedural programming, which is the programming style you most likely first learned. As you'll see in this lesson,\n",
    "\n",
    "* object-oriented programming allows you `to create large, modular programs that can easily expand over time;`\n",
    "* object-oriented programs `hide the implementation from the end-user`."
   ]
  },
  {
   "cell_type": "markdown",
   "metadata": {},
   "source": [
    "## Procedural vs. Object-Oriented Programming\n"
   ]
  },
  {
   "cell_type": "markdown",
   "metadata": {},
   "source": [
    "## Objects are defined by `characteristics and actions`"
   ]
  },
  {
   "cell_type": "markdown",
   "metadata": {},
   "source": [
    "Characteristics and Actions in English Grammar\n",
    "Another way to think about characteristics and actions is in terms of English grammar. A characteristic would be a noun. On the other hand, an action would be a verb."
   ]
  },
  {
   "cell_type": "markdown",
   "metadata": {},
   "source": [
    "eg-\n",
    "\n",
    "**Object:** Salesperson\n",
    "\n",
    "**characteristics:** Age,hourly pay, height,gender,address\n",
    "\n",
    "**Actions:** sell item, take item"
   ]
  },
  {
   "cell_type": "markdown",
   "metadata": {},
   "source": [
    "# Quizzes - Characteristics versus Actions\n"
   ]
  },
  {
   "cell_type": "markdown",
   "metadata": {},
   "source": [
    "### QUESTION 1 OF 2\n",
    "**Which of the following would you consider to be characteristics of a tree object?**"
   ]
  },
  {
   "cell_type": "markdown",
   "metadata": {},
   "source": [
    "1. Height\n",
    "2. Color\n",
    "3. To grow\n",
    "4. Width\n",
    "5. To fall down\n",
    "6. Species\n",
    "\n",
    "Answer: 1,2,4,6"
   ]
  },
  {
   "cell_type": "markdown",
   "metadata": {},
   "source": [
    "## QUESTION 2 OF 2\n",
    "**Which of the following would be considered actions for a laptop computer object?**"
   ]
  },
  {
   "cell_type": "markdown",
   "metadata": {},
   "source": [
    "1. Memory\n",
    "2. Width\n",
    "3. To turn off\n",
    "4. Thickness\n",
    "5. Weight\n",
    "6. TO erase\n",
    "\n",
    "Answer:3,6"
   ]
  },
  {
   "cell_type": "markdown",
   "metadata": {},
   "source": [
    "# Class, Object, Method and Attribute\n"
   ]
  },
  {
   "cell_type": "markdown",
   "metadata": {},
   "source": [
    "### Object-Oriented Programming (OOP) Vocabulary\n",
    "\n",
    "**class -** a blueprint consisting of methods and attributes\n",
    "**object -** an instance of a class. It can help to think of objects as something in the real world like a yellow pencil, a small dog, a blue shirt, etc. However, as you'll see later in the lesson, objects can be more abstract.\n",
    "\n",
    "**attribute -** a descriptor or characteristic. Examples would be color, length, size, etc. These attributes can take on specific values like blue, 3 inches, large, etc.\n",
    "\n",
    "**method -** an action that a class or object could take\n",
    "\n",
    "**OOP -** a commonly used abbreviation for object-oriented programming\n",
    "\n",
    "**encapsulation -** one of the fundamental ideas behind object-oriented programming is called encapsulation: you can combine functions and data all into a single entity. In object-oriented programming, this single entity is called a class. Encapsulation allows you to hide implementation details much like how the scikit-learn package hides the implementation of machine learning algorithms."
   ]
  },
  {
   "cell_type": "markdown",
   "metadata": {},
   "source": [
    "# OOP syntax"
   ]
  },
  {
   "cell_type": "code",
   "execution_count": 8,
   "metadata": {},
   "outputs": [],
   "source": [
    "# Class\n",
    "\n",
    "class Shirt:\n",
    "    def __init__(self,shirt_color,shirt_size,shirt_style,shirt_price):\n",
    "        self.color=shirt_color\n",
    "        self.size=shirt_size\n",
    "        self.style=shirt_style\n",
    "        self.price=shirt_price\n",
    "    def change_price(self,new_price):\n",
    "        self.price=new_price\n",
    "        \n",
    "    def discount(self,discount):\n",
    "        return self.price*(1-discount)\n",
    "        "
   ]
  },
  {
   "cell_type": "code",
   "execution_count": 2,
   "metadata": {},
   "outputs": [
    {
     "data": {
      "text/plain": [
       "<__main__.shirt at 0x22fe0c44860>"
      ]
     },
     "execution_count": 2,
     "metadata": {},
     "output_type": "execute_result"
    }
   ],
   "source": [
    "# instance\n",
    "shirt('red','xL','long sleeve',200) # instantiation"
   ]
  },
  {
   "cell_type": "code",
   "execution_count": 3,
   "metadata": {},
   "outputs": [],
   "source": [
    "# object \n",
    "red_shirt=shirt('red','xL','long sleeve',200)"
   ]
  },
  {
   "cell_type": "code",
   "execution_count": 4,
   "metadata": {},
   "outputs": [
    {
     "name": "stdout",
     "output_type": "stream",
     "text": [
      "red\n",
      "xL\n",
      "long sleeve\n",
      "200\n"
     ]
    }
   ],
   "source": [
    "# access features and actions of new object\n",
    "print(red_shirt.color)\n",
    "print(red_shirt.size)\n",
    "print(red_shirt.style)\n",
    "print(red_shirt.price)\n"
   ]
  },
  {
   "cell_type": "code",
   "execution_count": 5,
   "metadata": {},
   "outputs": [],
   "source": [
    "red_shirt.change_price(300)"
   ]
  },
  {
   "cell_type": "code",
   "execution_count": 7,
   "metadata": {},
   "outputs": [
    {
     "name": "stdout",
     "output_type": "stream",
     "text": [
      "300\n"
     ]
    }
   ],
   "source": [
    "print(red_shirt.price)"
   ]
  },
  {
   "cell_type": "markdown",
   "metadata": {},
   "source": [
    "## Function vs Method\n"
   ]
  },
  {
   "cell_type": "markdown",
   "metadata": {},
   "source": [
    "* The difference is that a method is inside of a class whereas a function is outside of a class."
   ]
  },
  {
   "cell_type": "markdown",
   "metadata": {},
   "source": [
    "## What is self?"
   ]
  },
  {
   "cell_type": "markdown",
   "metadata": {},
   "source": [
    "###  If you instantiate two objects, how does Python differentiate between these two objects?"
   ]
  },
  {
   "cell_type": "code",
   "execution_count": 9,
   "metadata": {},
   "outputs": [],
   "source": [
    "shirt_one = Shirt('red', 'S', 'short-sleeve', 15)\n",
    "short_two = Shirt('yellow', 'M', 'long-sleeve', 20)"
   ]
  },
  {
   "cell_type": "markdown",
   "metadata": {},
   "source": [
    "### That's where self comes into play. If you call the change_price method on shirt_one, how does Python know to change the price of shirt_one and not of shirt_two?"
   ]
  },
  {
   "cell_type": "markdown",
   "metadata": {},
   "source": [
    "**Self tells Python where to look in the computer's memory for the shirt_one object**. And then Python changes the price of the shirt_one object. When you call the change_price method, shirt_one.change_price(12), self is implicitly passed in.\n",
    "\n",
    "The word self is just a convention. You could actually use any other name as long as you are consistent; however, you should always use self rather than some other word or else you might confuse people."
   ]
  }
 ],
 "metadata": {
  "kernelspec": {
   "display_name": "Python 3",
   "language": "python",
   "name": "python3"
  },
  "language_info": {
   "codemirror_mode": {
    "name": "ipython",
    "version": 3
   },
   "file_extension": ".py",
   "mimetype": "text/x-python",
   "name": "python",
   "nbconvert_exporter": "python",
   "pygments_lexer": "ipython3",
   "version": "3.7.3"
  }
 },
 "nbformat": 4,
 "nbformat_minor": 2
}
