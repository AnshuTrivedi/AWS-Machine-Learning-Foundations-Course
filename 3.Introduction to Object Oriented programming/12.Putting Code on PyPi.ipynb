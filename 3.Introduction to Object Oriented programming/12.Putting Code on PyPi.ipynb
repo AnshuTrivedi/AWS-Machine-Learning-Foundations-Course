{
 "cells": [
  {
   "cell_type": "markdown",
   "metadata": {},
   "source": [
    "# PyPi vs. Test PyPi\n",
    "Note that [pypi.org](https://pypi.org/) and [test.pypy.org](https://test.pypi.org/) are two different websites. `You'll need to register separately at each website.` If you only register at pypi.org, you will not be able to upload to the test.pypy.org repository.\n",
    "\n",
    "Also,` remember that your package name must be unique. If you use a package name that is already taken, you will get an error when trying to upload the package.`\n",
    "\n",
    "## Summary of the Terminal Commands Used in package\n",
    "\n",
    "* cd binomial_package_files\n",
    "* python setup.py sdist\n",
    "* pip install twine\n",
    "\n",
    "#commands to upload to the pypi test repository\n",
    "* twine upload --repository-url https://test.pypi.org/legacy/ dist/*\n",
    "* pip install --index-url https://test.pypi.org/simple/ dsnd-probability\n",
    "\n",
    "#command to upload to the pypi repository\n",
    "* twine upload dist/*\n",
    "* pip install dsnd-probability"
   ]
  },
  {
   "cell_type": "markdown",
   "metadata": {},
   "source": [
    "# More PyPi Resources\n",
    "### Tutorial on distributing packages\n",
    "\n",
    "This link has a good [tutorial on distributing Python packages](https://packaging.python.org/tutorials/distributing-packages/) including more configuration options for your setup.py file: tutorial on distributing packages. You'll notice that the python command to run the setup.py is slightly different with"
   ]
  },
  {
   "cell_type": "markdown",
   "metadata": {},
   "source": [
    "python3 setup.py sdist bdist_wheel"
   ]
  },
  {
   "cell_type": "markdown",
   "metadata": {},
   "source": [
    "This command will still output a folder called dist. The difference is that you will get both a .tar.gz file and a .whl file. **`The .tar.gz file is called a source archive whereas the .whl file is a built distribution`**. The .whl file is a newer type of installation file for Python packages. When you pip install a package, pip will first look for a whl file (wheel file) and if there isn't one, will then look for the tar.gz file.\n",
    "\n",
    "A tar.gz file, ie an sdist, contains the files needed to [compile](https://en.wikipedia.org/wiki/Compiler) and install a Python package. A whl file, ie a built distribution, only needs to be copied to the proper place for installation. Behind the scenes, pip installing a whl file has fewer steps than a tar.gz file.\n",
    "\n",
    "Other than this command, the rest of the steps for uploading to PyPi are the same.\n",
    "\n",
    "Other Links\n",
    "If you'd like to learn more about PyPi, here are a couple of resources:\n",
    "* [Overview of PyPi](https://docs.python.org/3/distutils/packageindex.html)\n",
    "\n",
    "[MIT License](https://opensource.org/licenses/MIT)"
   ]
  }
 ],
 "metadata": {
  "kernelspec": {
   "display_name": "Python 3",
   "language": "python",
   "name": "python3"
  },
  "language_info": {
   "codemirror_mode": {
    "name": "ipython",
    "version": 3
   },
   "file_extension": ".py",
   "mimetype": "text/x-python",
   "name": "python",
   "nbconvert_exporter": "python",
   "pygments_lexer": "ipython3",
   "version": "3.6.10"
  }
 },
 "nbformat": 4,
 "nbformat_minor": 4
}
