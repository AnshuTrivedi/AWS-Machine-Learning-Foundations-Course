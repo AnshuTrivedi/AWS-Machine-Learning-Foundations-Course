{
 "cells": [
  {
   "cell_type": "markdown",
   "metadata": {},
   "source": [
    "# Contributing to a GitHub project\n",
    "Here are a few links about how to contribute to a github project:\n",
    "\n",
    "* [Beginner's Guide to Contributing to a Github Project](https://akrabat.com/the-beginners-guide-to-contributing-to-a-github-project/)\n",
    "* [Contributing to a Github Project](https://github.com/MarcDiethelm/contributing/blob/master/README.md)\n",
    "\n",
    "## Advanced Python OOP Topics\n",
    "\n",
    "Here are a few links to more advanced OOP topics that appear in the Scikit-learn package:\n",
    "\n",
    "* [Decorators](https://realpython.com/primer-on-python-decorators/)\n",
    "* [Mixins](https://easyaspython.com/mixins-for-fun-and-profit-cb9962760556)"
   ]
  }
 ],
 "metadata": {
  "kernelspec": {
   "display_name": "Python 3",
   "language": "python",
   "name": "python3"
  },
  "language_info": {
   "codemirror_mode": {
    "name": "ipython",
    "version": 3
   },
   "file_extension": ".py",
   "mimetype": "text/x-python",
   "name": "python",
   "nbconvert_exporter": "python",
   "pygments_lexer": "ipython3",
   "version": "3.6.10"
  }
 },
 "nbformat": 4,
 "nbformat_minor": 4
}
