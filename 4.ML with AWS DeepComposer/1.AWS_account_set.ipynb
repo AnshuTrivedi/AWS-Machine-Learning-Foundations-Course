{
 "cells": [
  {
   "cell_type": "markdown",
   "metadata": {},
   "source": [
    "# AWS Account is Required\n",
    "\n",
    "To complete the exercises in this course you will need an AWS Account ID.\n",
    "\n",
    "To set up a new AWS Account ID, follow the directions here: [How do I create and activate a new Amazon Web Services account?](https://aws.amazon.com/premiumsupport/knowledge-center/create-and-activate-aws-account/)\n",
    "\n",
    "**You will be required to provide a payment method when you create the account.** You can learn about which services are available at no cost in the the [AWS Free Tier documentation](https://aws.amazon.com/free/)\n",
    "\n",
    "## Will The Exercises Cost Anything?\n",
    "#### Generate an Inference Exercise (Required)\n",
    "Your AWS account includes free access for up to 500 inference jobs in the 12 months after you first use the AWS DeepComposer service. **You can use one of these free instances to complete the exercise at no cost**.\n",
    "\n",
    "You can learn more about DeepComposer costs in the [AWS DeepComposer pricing documentation](https://aws.amazon.com/deepcomposer/pricing/)\n",
    "\n",
    "## Build a Custom GAN Demo (Optional)\n",
    "\n",
    "Amazon SageMaker is a separate service and has its own service pricing and billing tier. To create the custom GAN, our instructor uses an instance type that is not covered in the Amazon SageMaker free tier.**If you want to code along with the instructor and build a custom GAN on your own you may incur a cost.**\n",
    "\n",
    "Please note that creating your own custom GAN is completely optional. You are not required to do this exercise to complete the course.\n",
    "\n",
    "You can learn more about SageMaker costs in the [Amazon SageMaker pricing documentation](https://aws.amazon.com/sagemaker/pricing/)"
   ]
  }
 ],
 "metadata": {
  "kernelspec": {
   "display_name": "Python 3",
   "language": "python",
   "name": "python3"
  },
  "language_info": {
   "codemirror_mode": {
    "name": "ipython",
    "version": 3
   },
   "file_extension": ".py",
   "mimetype": "text/x-python",
   "name": "python",
   "nbconvert_exporter": "python",
   "pygments_lexer": "ipython3",
   "version": "3.7.7"
  }
 },
 "nbformat": 4,
 "nbformat_minor": 4
}
