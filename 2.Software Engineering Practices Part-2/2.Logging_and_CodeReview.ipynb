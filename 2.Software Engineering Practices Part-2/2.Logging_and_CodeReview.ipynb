{
 "cells": [
  {
   "cell_type": "markdown",
   "metadata": {},
   "source": [
    "# Logging"
   ]
  },
  {
   "cell_type": "markdown",
   "metadata": {},
   "source": [
    "**Logging is the process of recording messages to describe events that have occurred while running your software.**"
   ]
  },
  {
   "cell_type": "markdown",
   "metadata": {},
   "source": [
    "## Log Messages"
   ]
  },
  {
   "cell_type": "markdown",
   "metadata": {},
   "source": [
    "## #Tip: Be professional and clear"
   ]
  },
  {
   "cell_type": "markdown",
   "metadata": {},
   "source": [
    "Bad: Hmmm... this isn't working???\n",
    "\n",
    "Bad: idk.... :(\n",
    "\n",
    "Good: Couldn't parse file."
   ]
  },
  {
   "cell_type": "markdown",
   "metadata": {},
   "source": [
    "## #Tip: Be concise and use normal capitalization\n"
   ]
  },
  {
   "cell_type": "markdown",
   "metadata": {},
   "source": [
    "Bad: Start Product Recommendation Process\n",
    "\n",
    "Bad: We have completed the steps necessary and will now proceed with the recommendation process for the records in our product database.\n",
    "\n",
    "Good: Generating product recommendations."
   ]
  },
  {
   "cell_type": "markdown",
   "metadata": {},
   "source": [
    "## #Tip: Choose the appropriate level for logging"
   ]
  },
  {
   "cell_type": "markdown",
   "metadata": {},
   "source": [
    "DEBUG - level you would use for anything that happens in the program.\n",
    "\n",
    "ERROR - level to record any error that occurs\n",
    "\n",
    "INFO - level to record all actions that are user-driven or system specific, such as regularly scheduled operations"
   ]
  },
  {
   "cell_type": "markdown",
   "metadata": {},
   "source": [
    "## #Tip: Provide any useful information"
   ]
  },
  {
   "cell_type": "markdown",
   "metadata": {},
   "source": [
    "Bad: Failed to read location data\n",
    "\n",
    "Good: Failed to read location data: store_id 8324971"
   ]
  },
  {
   "cell_type": "markdown",
   "metadata": {},
   "source": [
    "# QUIZ QUESTION\n",
    "**What are some ways this log message could be improved? Select all that apply**."
   ]
  },
  {
   "cell_type": "markdown",
   "metadata": {},
   "source": [
    "ERROR - Failed to compute product similarity. I made sure to fix the error from October so not sure why this would occur again. "
   ]
  },
  {
   "cell_type": "markdown",
   "metadata": {},
   "source": [
    "1. Use the DEBUG level rather than ERROR level for this log message\n",
    "2. Add more details about this error,such as what step or program was on when this occured\n",
    "3. Use title case for the meassage\n",
    "4. Remove the second sentence\n",
    "5. None of above this is great log message"
   ]
  },
  {
   "cell_type": "markdown",
   "metadata": {},
   "source": [
    "Answer: 2,4"
   ]
  },
  {
   "cell_type": "markdown",
   "metadata": {},
   "source": [
    "# Code Reviews"
   ]
  },
  {
   "cell_type": "markdown",
   "metadata": {},
   "source": [
    "Code reviews benefit everyone in a team to promote best programming practices and prepare code for production. "
   ]
  },
  {
   "cell_type": "markdown",
   "metadata": {},
   "source": [
    "### Code review benefits:\n",
    " 1. Catch errors \n",
    " 2. Ensure readability\n",
    " 3. Check standards are met\n",
    " 4. Share knowledge amoung team\n"
   ]
  },
  {
   "cell_type": "markdown",
   "metadata": {},
   "source": [
    "Let's go over what to look for in a code review and some tips on how to conduct one."
   ]
  },
  {
   "cell_type": "markdown",
   "metadata": {},
   "source": [
    "[Code Review](https://github.com/lyst/MakingLyst/tree/master/code-reviews)\n",
    "\n",
    "[Code review best practices](https://www.kevinlondon.com/2015/05/05/code-review-best-practices.html)"
   ]
  },
  {
   "cell_type": "markdown",
   "metadata": {},
   "source": [
    "# Questions to Ask Yourself When Conducting a Code Review\n",
    "First, let's look over some of the questions we may ask ourselves while reviewing code. These are simply from the concepts we've covered in these last two lessons!"
   ]
  },
  {
   "cell_type": "markdown",
   "metadata": {},
   "source": [
    "## Is the code clean and modular?\n",
    "* Can I understand the code easily?\n",
    "* Does it use meaningful names and whitespace?\n",
    "* Is there duplicated code?\n",
    "* Can you provide another layer of abstraction?\n",
    "* Is each function and module necessary?\n",
    "* Is each function or module too long?"
   ]
  },
  {
   "cell_type": "markdown",
   "metadata": {},
   "source": [
    "## Is the code efficient?\n",
    "* Are there loops or other steps we can vectorize?\n",
    "* Can we use better data structures to optimize any steps?\n",
    "* Can we shorten the number of calculations needed for any steps?\n",
    "* Can we use generators or multiprocessing to optimize any steps?\n"
   ]
  },
  {
   "cell_type": "markdown",
   "metadata": {},
   "source": [
    "## Is documentation effective?\n",
    "* Are in-line comments concise and meaningful?\n",
    "* Is there complex code that's missing documentation?\n",
    "* Do function use effective docstrings?\n",
    "* Is the necessary project documentation provided?\n"
   ]
  },
  {
   "cell_type": "markdown",
   "metadata": {},
   "source": [
    "## Is the code well tested?\n",
    "* Does the code high test coverage?\n",
    "* Do tests check for interesting cases?\n",
    "* Are the tests readable?\n",
    "* Can the tests be made more efficient?\n"
   ]
  },
  {
   "cell_type": "markdown",
   "metadata": {},
   "source": [
    "## Is the logging effective?\n",
    "* Are log messages clear, concise, and professional?\n",
    "* Do they include all relevant and useful information?\n",
    "* Do they use the appropriate logging level?"
   ]
  },
  {
   "cell_type": "markdown",
   "metadata": {},
   "source": [
    "# Tips for Conducting a Code Review\n"
   ]
  },
  {
   "cell_type": "markdown",
   "metadata": {},
   "source": [
    "As you may have noticed, with code reviews you are now dealing with people, not just computers. So it's important to be thoughtful of their ideas and efforts. You are in a team and there will be differences in preferences. The goal of code review isn't to make all code follow your personal preferences, but a standard of quality for the whole team."
   ]
  },
  {
   "cell_type": "markdown",
   "metadata": {},
   "source": [
    "### Tip: Use a code linter"
   ]
  },
  {
   "cell_type": "markdown",
   "metadata": {},
   "source": [
    "This isn't really a tip for code review, but can save you lots of time from code review! Using a Python code linter like [pylint](https://www.pylint.org/) can automatically check for coding standards and PEP 8 guidelines for you! It's also a good idea to agree on a style guide as a team to handle disagreements on code style, whether that's an existing style guide or one you create together incrementally as a team."
   ]
  },
  {
   "cell_type": "markdown",
   "metadata": {},
   "source": [
    "### Tip: Explain issues and make suggestions"
   ]
  },
  {
   "cell_type": "markdown",
   "metadata": {},
   "source": [
    "Rather than commanding people to change their code a specific way because it's better, it will go a long way to explain to them the consequences of the current code and suggest changes to improve it. They will be much more receptive to your feedback if they understand your thought process and are accepting recommendations, rather than following commands. They also may have done it a certain way intentionally, and framing it as a suggestion promotes a constructive discussion, rather than opposition.\n",
    "\n"
   ]
  },
  {
   "cell_type": "markdown",
   "metadata": {},
   "source": [
    "BAD: Make model evaluation code its own module - too repetitive.\n",
    "\n",
    "BETTER: Make the model evaluation code its own module. This will simplify models.py to be less repetitive and focus primarily on building models.\n",
    "\n",
    "GOOD: How about we consider making the model evaluation code its own module? This would simplify models.py to only include code for building models. Organizing these evaluations methods into separate functions would also allow us to reuse them with different models without repeating code."
   ]
  },
  {
   "cell_type": "markdown",
   "metadata": {},
   "source": [
    "### Tip: Keep your comments objective"
   ]
  },
  {
   "cell_type": "markdown",
   "metadata": {},
   "source": [
    "Try to avoid using the words \"I\" and \"you\" in your comments. You want to avoid comments that sound personal to bring the attention of the review to the code and not to themselves."
   ]
  },
  {
   "cell_type": "markdown",
   "metadata": {},
   "source": [
    "BAD: I wouldn't groupby genre twice like you did here... Just compute it once and use that for your aggregations.\n",
    "\n",
    "BAD: You create this groupby dataframe twice here. Just compute it once, save it as groupby_genre and then use that to get your average prices and views.\n",
    "\n",
    "GOOD: Can we group by genre at the beginning of the function and then save that as a groupby object? We could then reference that object to get the average prices and views without computing groupby twice."
   ]
  },
  {
   "cell_type": "markdown",
   "metadata": {},
   "source": [
    "### Tip: Provide code examples"
   ]
  },
  {
   "cell_type": "markdown",
   "metadata": {},
   "source": [
    "When providing a code review, you can save the author time and make it easy for them to act on your feedback by writing out your code suggestions. This shows you are willing to spend some extra time to review their code and help them out. It can also just be much quicker for you to demonstrate concepts through code rather than explanations."
   ]
  },
  {
   "cell_type": "markdown",
   "metadata": {},
   "source": [
    "<block><pre>\n",
    "#Let's say you were reviewing code that included the following lines:\n",
    "\n",
    "first_names = []\n",
    "last_names = []\n",
    "\n",
    "for name in enumerate(df.name):\n",
    "    first, last = name.split(' ')\n",
    "    first_names.append(first)\n",
    "    last_names.append(last)\n",
    "\n",
    "df['first_name'] = first_names\n",
    "df['last_names'] = last_names\n",
    "\n",
    "<block></pre>"
   ]
  },
  {
   "cell_type": "markdown",
   "metadata": {},
   "source": [
    "BAD: You can do this all in one step by using the pandas str.split method.\n",
    "\n",
    "GOOD: We can actually simplify this step to the line below using the pandas str.split method. Found this on this stack overflow post: https://stackoverflow.com/questions/14745022/how-to-split-a-column-into-two-columns\n",
    "\n",
    "`df['first_name'], df['last_name'] = df['name'].str.split(' ', 1).str`"
   ]
  }
 ],
 "metadata": {
  "kernelspec": {
   "display_name": "Python 3",
   "language": "python",
   "name": "python3"
  },
  "language_info": {
   "codemirror_mode": {
    "name": "ipython",
    "version": 3
   },
   "file_extension": ".py",
   "mimetype": "text/x-python",
   "name": "python",
   "nbconvert_exporter": "python",
   "pygments_lexer": "ipython3",
   "version": "3.7.3"
  }
 },
 "nbformat": 4,
 "nbformat_minor": 2
}
